{
 "cells": [
  {
   "cell_type": "code",
   "execution_count": null,
   "id": "4829cd16-08d5-4482-a535-1cd5956ebb93",
   "metadata": {},
   "outputs": [],
   "source": []
  }
 ],
 "metadata": {
  "kernelspec": {
   "display_name": "",
   "name": ""
  },
  "language_info": {
   "name": ""
  }
 },
 "nbformat": 4,
 "nbformat_minor": 5
}

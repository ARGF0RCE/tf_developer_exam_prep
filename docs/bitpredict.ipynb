{
 "cells": [
  {
   "cell_type": "code",
   "execution_count": null,
   "id": "137a91b8-1aea-49d3-ab12-c079b6bb77ed",
   "metadata": {},
   "outputs": [],
   "source": []
  }
 ],
 "metadata": {
  "kernelspec": {
   "display_name": "",
   "name": ""
  },
  "language_info": {
   "name": ""
  }
 },
 "nbformat": 4,
 "nbformat_minor": 5
}
